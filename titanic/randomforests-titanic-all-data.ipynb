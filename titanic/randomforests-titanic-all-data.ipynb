{
 "cells": [
  {
   "cell_type": "markdown",
   "metadata": {},
   "source": [
    "# Topgun titanic and decision trees - random forest"
   ]
  },
  {
   "cell_type": "markdown",
   "metadata": {},
   "source": [
    "Data available: PassengerId,Survived,Pclass,Name,Sex,Age,SibSp,Parch,Ticket,Fare,Cabin,Embarked"
   ]
  },
  {
   "cell_type": "code",
   "execution_count": 102,
   "metadata": {},
   "outputs": [],
   "source": [
    "from sklearn.ensemble import RandomForestClassifier\n",
    "from sklearn.tree import DecisionTreeClassifier\n",
    "\n",
    "import pandas as pd\n",
    "import numpy as np\n",
    "import math\n",
    "\n",
    "np.random.seed(0)"
   ]
  },
  {
   "cell_type": "code",
   "execution_count": 118,
   "metadata": {},
   "outputs": [
    {
     "data": {
      "text/html": [
       "<div>\n",
       "<style scoped>\n",
       "    .dataframe tbody tr th:only-of-type {\n",
       "        vertical-align: middle;\n",
       "    }\n",
       "\n",
       "    .dataframe tbody tr th {\n",
       "        vertical-align: top;\n",
       "    }\n",
       "\n",
       "    .dataframe thead th {\n",
       "        text-align: right;\n",
       "    }\n",
       "</style>\n",
       "<table border=\"1\" class=\"dataframe\">\n",
       "  <thead>\n",
       "    <tr style=\"text-align: right;\">\n",
       "      <th></th>\n",
       "      <th>Sex</th>\n",
       "      <th>Age</th>\n",
       "      <th>Fare</th>\n",
       "      <th>Pclass</th>\n",
       "      <th>Survived</th>\n",
       "    </tr>\n",
       "  </thead>\n",
       "  <tbody>\n",
       "    <tr>\n",
       "      <th>0</th>\n",
       "      <td>male</td>\n",
       "      <td>22.0</td>\n",
       "      <td>7.2500</td>\n",
       "      <td>3</td>\n",
       "      <td>0</td>\n",
       "    </tr>\n",
       "    <tr>\n",
       "      <th>1</th>\n",
       "      <td>female</td>\n",
       "      <td>38.0</td>\n",
       "      <td>71.2833</td>\n",
       "      <td>1</td>\n",
       "      <td>1</td>\n",
       "    </tr>\n",
       "    <tr>\n",
       "      <th>2</th>\n",
       "      <td>female</td>\n",
       "      <td>26.0</td>\n",
       "      <td>7.9250</td>\n",
       "      <td>3</td>\n",
       "      <td>1</td>\n",
       "    </tr>\n",
       "    <tr>\n",
       "      <th>3</th>\n",
       "      <td>female</td>\n",
       "      <td>35.0</td>\n",
       "      <td>53.1000</td>\n",
       "      <td>1</td>\n",
       "      <td>1</td>\n",
       "    </tr>\n",
       "    <tr>\n",
       "      <th>4</th>\n",
       "      <td>male</td>\n",
       "      <td>35.0</td>\n",
       "      <td>8.0500</td>\n",
       "      <td>3</td>\n",
       "      <td>0</td>\n",
       "    </tr>\n",
       "  </tbody>\n",
       "</table>\n",
       "</div>"
      ],
      "text/plain": [
       "      Sex   Age     Fare  Pclass  Survived\n",
       "0    male  22.0   7.2500       3         0\n",
       "1  female  38.0  71.2833       1         1\n",
       "2  female  26.0   7.9250       3         1\n",
       "3  female  35.0  53.1000       1         1\n",
       "4    male  35.0   8.0500       3         0"
      ]
     },
     "execution_count": 118,
     "metadata": {},
     "output_type": "execute_result"
    }
   ],
   "source": [
    "features = ['Sex', 'Age', 'Fare', 'Pclass']\n",
    "id = 'PassengerId'\n",
    "outcome = 'Survived'\n",
    "\n",
    "df = pd.read_csv(\"train.csv\")[features+[outcome]]\n",
    "df_test = pd.read_csv(\"test.csv\")[[id]+features]\n",
    "\n",
    "df.head()"
   ]
  },
  {
   "cell_type": "code",
   "execution_count": 119,
   "metadata": {},
   "outputs": [],
   "source": [
    "def fill_median(d: pd.DataFrame, key: str):\n",
    "    d[key] = d[key].fillna(d[key].median())\n"
   ]
  },
  {
   "cell_type": "code",
   "execution_count": 121,
   "metadata": {},
   "outputs": [],
   "source": [
    "\n",
    "df['Sex'] = df['Sex'].factorize()[0]\n",
    "df_test['Sex'] = df_test['Sex'].factorize()[0]\n",
    "\n",
    "fill_median(df, 'Age')\n",
    "fill_median(df, 'Fare')\n",
    "fill_median(df_test, 'Age')\n",
    "fill_median(df_test, 'Fare')\n",
    "\n",
    "X = df[features]\n",
    "y = df['Survived']\n"
   ]
  },
  {
   "cell_type": "code",
   "execution_count": 122,
   "metadata": {},
   "outputs": [
    {
     "data": {
      "text/plain": [
       "array([[892,   0],\n",
       "       [893,   0],\n",
       "       [894,   1],\n",
       "       [895,   1],\n",
       "       [896,   1],\n",
       "       [897,   0],\n",
       "       [898,   0],\n",
       "       [899,   0],\n",
       "       [900,   1],\n",
       "       [901,   0],\n",
       "       [902,   0],\n",
       "       [903,   0],\n",
       "       [904,   1],\n",
       "       [905,   0],\n",
       "       [906,   1],\n",
       "       [907,   1],\n",
       "       [908,   0],\n",
       "       [909,   1],\n",
       "       [910,   1],\n",
       "       [911,   0],\n",
       "       [912,   0],\n",
       "       [913,   0],\n",
       "       [914,   1],\n",
       "       [915,   0],\n",
       "       [916,   1]])"
      ]
     },
     "execution_count": 122,
     "metadata": {},
     "output_type": "execute_result"
    }
   ],
   "source": [
    "clf = RandomForestClassifier()\n",
    "\n",
    "clf.fit(X, y)\n",
    "\n",
    "preds = np.array((df_test[id].to_numpy(), clf.predict(df_test[features]))).transpose()\n",
    "preds[0:25]"
   ]
  },
  {
   "cell_type": "code",
   "execution_count": 123,
   "metadata": {},
   "outputs": [],
   "source": [
    "pd.DataFrame(preds, columns=['PassengerId', 'Survived']).to_csv('prediction.csv', index=False)"
   ]
  }
 ],
 "metadata": {
  "interpreter": {
   "hash": "c9a53b8ff90e6ce9c56dd9bb1483321c31598511999d57d0d0e6a035ebb2b67f"
  },
  "kernelspec": {
   "display_name": "Python 3.9.12 ('base')",
   "language": "python",
   "name": "python3"
  },
  "language_info": {
   "codemirror_mode": {
    "name": "ipython",
    "version": 3
   },
   "file_extension": ".py",
   "mimetype": "text/x-python",
   "name": "python",
   "nbconvert_exporter": "python",
   "pygments_lexer": "ipython3",
   "version": "3.9.12"
  },
  "orig_nbformat": 4
 },
 "nbformat": 4,
 "nbformat_minor": 2
}
